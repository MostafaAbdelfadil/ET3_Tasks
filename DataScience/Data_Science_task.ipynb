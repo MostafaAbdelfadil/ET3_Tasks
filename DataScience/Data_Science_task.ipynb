{
 "cells": [
  {
   "cell_type": "markdown",
   "id": "34bae454",
   "metadata": {},
   "source": [
    "# Data Science Task"
   ]
  },
  {
   "cell_type": "markdown",
   "id": "badbd762",
   "metadata": {},
   "source": [
    "# 1. import dataset"
   ]
  },
  {
   "cell_type": "code",
   "execution_count": 40,
   "id": "8d91acc4",
   "metadata": {},
   "outputs": [
    {
     "name": "stdout",
     "output_type": "stream",
     "text": [
      "(242, 18)\n"
     ]
    }
   ],
   "source": [
    "import pandas as pd\n",
    "import numpy as np\n",
    "import math\n",
    "\n",
    "data = pd.read_csv('drinkMenu.csv')\n",
    "print(data.shape)"
   ]
  },
  {
   "cell_type": "markdown",
   "id": "433112d8",
   "metadata": {},
   "source": [
    "# 2. Data Preparation"
   ]
  },
  {
   "cell_type": "markdown",
   "id": "737715a5",
   "metadata": {},
   "source": [
    "## - Remove duplicates"
   ]
  },
  {
   "cell_type": "code",
   "execution_count": 41,
   "id": "7fc1d735",
   "metadata": {},
   "outputs": [
    {
     "name": "stdout",
     "output_type": "stream",
     "text": [
      "(242, 18)\n"
     ]
    }
   ],
   "source": [
    "data = data.drop_duplicates()\n",
    "print(data.shape)"
   ]
  },
  {
   "cell_type": "markdown",
   "id": "3b1bc60b",
   "metadata": {},
   "source": [
    "##### there is no duplicates in these dataset as shown the shape didn't chage."
   ]
  },
  {
   "cell_type": "markdown",
   "id": "2ea2c3dd",
   "metadata": {},
   "source": [
    "## - Fill null values"
   ]
  },
  {
   "cell_type": "markdown",
   "id": "1e1d8b92",
   "metadata": {},
   "source": [
    "I will show you the distict values in each column to specify whether columns have nan values"
   ]
  },
  {
   "cell_type": "code",
   "execution_count": 42,
   "id": "41eac24d",
   "metadata": {},
   "outputs": [
    {
     "name": "stdout",
     "output_type": "stream",
     "text": [
      "Beverage_category\n",
      "['Coffee' 'Classic Espresso Drinks' 'Signature Espresso Drinks'\n",
      " 'Tazo® Tea Drinks' 'Shaken Iced Beverages' 'Smoothies'\n",
      " 'Frappuccino® Blended Coffee' 'Frappuccino® Light Blended Coffee'\n",
      " 'Frappuccino® Blended Crème']\n",
      "\n",
      "Beverage\n",
      "['Brewed Coffee' 'Caffè Latte' 'Caffè Mocha (Without Whipped Cream)'\n",
      " 'Vanilla Latte (Or Other Flavoured Latte)' 'Caffè Americano' 'Cappuccino'\n",
      " 'Espresso' 'Skinny Latte (Any Flavour)' 'Caramel Macchiato'\n",
      " 'White Chocolate Mocha (Without Whipped Cream)'\n",
      " 'Hot Chocolate (Without Whipped Cream)'\n",
      " 'Caramel Apple Spice (Without Whipped Cream)' 'Tazo® Tea'\n",
      " 'Tazo® Chai Tea Latte' 'Tazo® Green Tea Latte'\n",
      " 'Tazo® Full-Leaf Tea Latte'\n",
      " 'Tazo® Full-Leaf Red Tea Latte (Vanilla Rooibos)'\n",
      " 'Iced Brewed Coffee (With Classic Syrup)'\n",
      " 'Iced Brewed Coffee (With Milk & Classic Syrup)'\n",
      " 'Shaken Iced Tazo® Tea (With Classic Syrup)'\n",
      " 'Shaken Iced Tazo® Tea Lemonade (With Classic Syrup)'\n",
      " 'Banana Chocolate Smoothie' 'Orange Mango Banana Smoothie'\n",
      " 'Strawberry Banana Smoothie' 'Coffee' 'Mocha (Without Whipped Cream)'\n",
      " 'Caramel (Without Whipped Cream)' 'Java Chip (Without Whipped Cream)'\n",
      " 'Mocha' 'Caramel' 'Java Chip'\n",
      " 'Strawberries & Crème (Without Whipped Cream)'\n",
      " 'Vanilla Bean (Without Whipped Cream)']\n",
      "\n",
      "Beverage_prep\n",
      "['Short' 'Tall' 'Grande' 'Venti' 'Short Nonfat Milk' '2% Milk' 'Soymilk'\n",
      " 'Tall Nonfat Milk' 'Grande Nonfat Milk' 'Venti Nonfat Milk' 'Solo'\n",
      " 'Doppio' 'Whole Milk']\n",
      "\n",
      "Calories\n",
      "[3 4 5 70 100 150 110 130 190 170 240 200 180 220 260 230 280 340 290 160\n",
      " 250 210 320 270 10 15 25 50 80 60 90 120 140 300 310 350 400 370 450 510\n",
      " 460 380 330 360 0 390 420 430]\n",
      "\n",
      " Total Fat (g)\n",
      "['0.1' '3.5' '2.5' '0.2' '6' '4.5' '0.3' '7' '5' '0.4' '9' '1.5' '4' '2'\n",
      " '8' '3' '11' '0' '1' '10' '15' '13' '0.5' '3 2']\n",
      "\n",
      "Trans Fat (g) \n",
      "[0.0 0.1 2.0 0.4 0.2 3.0 0.5 3.5 0.3 4.5 1.0 1.5 6.0 2.5 7.0 5.0 9.0 4.0]\n",
      "\n",
      "Saturated Fat (g)\n",
      "[0.0 0.1 0.2 0.3]\n",
      "\n",
      " Sodium (mg)\n",
      "[0 5 15 25 30 10 35 20 40]\n",
      "\n",
      " Total Carbohydrates (g) \n",
      "[5 10 75 85 65 120 135 105 150 170 130 190 220 60 70 55 100 115 125 140\n",
      " 160 180 80 110 95 200 15 40 90 0 1 240 250 310 330 290 20 25 50 45 230 4\n",
      " 30 35 210 300 340 270 280 320 260]\n",
      "\n",
      "Cholesterol (mg)\n",
      "[0 10 6 15 19 13 25 24 16 21 32 28 43 42 37 54 53 47 18 23 31 46 39 1 2 3\n",
      " 4 8 9 7 12 11 14 17 35 34 29 36 61 56 78 77 70 26 48 41 63 55 89 22 20 45\n",
      " 57 51 50 73 72 64 27 38 33 49 58 68 40 59 80 60 75 67 65 90 88 44 30]\n",
      "\n",
      " Dietary Fibre (g)\n",
      "[0 1 2 3 4 7 6 8]\n",
      "\n",
      " Sugars (g)\n",
      "[0 9 4 14 6 18 17 8 23 22 11 13 27 26 20 34 44 43 33 35 45 7 3 10 5 16 21\n",
      " 15 24 32 41 40 31 29 25 39 58 51 74 64 55 54 49 65 83 28 42 37 53 46 56\n",
      " 71 19 30 38 36 50 47 69 66 76 73 59 77 62 60 84 80 52 68]\n",
      "\n",
      " Protein (g) \n",
      "[0.3 0.5 1.0 6.0 5.0 10.0 8.0 13.0 12.0 16.0 7.0 9.0 11.0 17.0 14.0 15.0\n",
      " 0.4 3.0 4.0 19.0 18.0 0.0 0.2 2.0 0.1 20.0]\n",
      "\n",
      "Vitamin A (% DV) \n",
      "['0%' '10%' '6%' '15%' '20%' '30%' '25%' '8%' '4%' '2%' '50%']\n",
      "\n",
      "Vitamin C (% DV)\n",
      "['0%' '2%' '4%' '6%' '10%' '15%' '20%' '80%' '100%' '8%']\n",
      "\n",
      " Calcium (% DV) \n",
      "['0%' '2%' '20%' '30%' '40%' '50%' '15%' '25%' '35%' '45%' '10%' '60%'\n",
      " '6%' '8%']\n",
      "\n",
      "Iron (% DV) \n",
      "['0%' '8%' '15%' '25%' '10%' '20%' '30%' '40%' '50%' '6%' '2%' '4%'\n",
      " '0.00%' '6.00%' '8.00%' '10.00%' '15.00%' '35%']\n",
      "\n",
      "Caffeine (mg)\n",
      "['175' '260' '330' '410' '75' '150' '85' '95' '180' '225' '300' '10' '20'\n",
      " '25' '30' '0' 'Varies' '50' '70' '120' '55' '80' '110' 'varies' '165'\n",
      " '235' '90' nan '125' '170' '15' '130' '140' '100' '145' '65' '105']\n",
      "\n"
     ]
    }
   ],
   "source": [
    "for i in range(data.shape[1]):\n",
    "    col = data.values[:,i]\n",
    "    print(data.keys()[i])\n",
    "    print(pd.unique(col))\n",
    "    print()"
   ]
  },
  {
   "cell_type": "markdown",
   "id": "91aaccd5",
   "metadata": {},
   "source": [
    "### As shown, only \"Caffaeine (mg)\" column that has single nan value, so i will replace it with the mean of the remaining values in the same columns."
   ]
  },
  {
   "cell_type": "markdown",
   "id": "3d787f91",
   "metadata": {},
   "source": [
    "###### 1- apply mask1 to exclude 'Varies' indices from the column.\n",
    "###### 2- apply mask2 to exclude 'varies' indices from the column.\n",
    "###### 3- apply mask3 to exclude nan indices from the column.\n",
    "###### 4- concatenate them into big mask include the indices of all values.\n",
    "###### 5- use np.int32() casting to convert each value from str to int, then get the mean of them."
   ]
  },
  {
   "cell_type": "code",
   "execution_count": 43,
   "id": "f565f544",
   "metadata": {},
   "outputs": [
    {
     "name": "stdout",
     "output_type": "stream",
     "text": [
      "89.52054794520548\n"
     ]
    }
   ],
   "source": [
    "mask1 = data.values[:,17] == 'Varies'\n",
    "mask1 = mask1.nonzero()[0]\n",
    "mask2 = data.values[:,17] == 'varies'\n",
    "mask2 = mask2.nonzero()[0]\n",
    "mask3 = pd.isna(data.values[:,17])\n",
    "mask3 = mask3.nonzero()[0]\n",
    "mask = np.concatenate((mask1, mask2))\n",
    "mask = np.concatenate((mask, mask3))\n",
    "mask = [i for i in range(data.values[:,17].shape[0]) if i not in mask]\n",
    "mask = np.array(mask)\n",
    "avg = np.int32(data.values[mask,17]).mean()\n",
    "print(avg)"
   ]
  },
  {
   "cell_type": "markdown",
   "id": "93316bc9",
   "metadata": {},
   "source": [
    "### fill nan value with the ceil of the average "
   ]
  },
  {
   "cell_type": "code",
   "execution_count": 44,
   "id": "fb5a8c55",
   "metadata": {},
   "outputs": [
    {
     "name": "stdout",
     "output_type": "stream",
     "text": [
      "90\n"
     ]
    }
   ],
   "source": [
    "data = data.fillna(str(math.ceil(avg)))\n",
    "print(data.values[158,17])"
   ]
  },
  {
   "cell_type": "markdown",
   "id": "84e16c9c",
   "metadata": {},
   "source": [
    "## - Drop unnecessary Columns"
   ]
  },
  {
   "cell_type": "code",
   "execution_count": 45,
   "id": "557461ea",
   "metadata": {},
   "outputs": [
    {
     "name": "stdout",
     "output_type": "stream",
     "text": [
      "Index(['Beverage_category', 'Beverage', 'Beverage_prep', 'Calories',\n",
      "       ' Total Fat (g)', 'Trans Fat (g) ', 'Saturated Fat (g)', ' Sodium (mg)',\n",
      "       ' Total Carbohydrates (g) ', 'Cholesterol (mg)', ' Dietary Fibre (g)',\n",
      "       ' Sugars (g)', ' Protein (g) ', 'Vitamin A (% DV) ', 'Vitamin C (% DV)',\n",
      "       ' Calcium (% DV) ', 'Iron (% DV) ', 'Caffeine (mg)'],\n",
      "      dtype='object')\n"
     ]
    }
   ],
   "source": [
    "print(data.keys())"
   ]
  },
  {
   "cell_type": "markdown",
   "id": "e145b802",
   "metadata": {},
   "source": [
    "in this problem i suggest that the most important columns (i mean DrinkMenu) are [\"Beverage_category\", \"Beverage\", \"Beverage_prep\", \"Calories\", \"Total Fat (g)\", \"Total Carbohydrates (g)\", \"Sugars (g)\", \"Protein (g)\", \"Caffeine (mg)\"], so i will drop the remaining ones."
   ]
  },
  {
   "cell_type": "code",
   "execution_count": 46,
   "id": "4d3dd7cd",
   "metadata": {},
   "outputs": [
    {
     "name": "stdout",
     "output_type": "stream",
     "text": [
      "              Beverage_category                                      Beverage  \\\n",
      "0                        Coffee                                 Brewed Coffee   \n",
      "1                        Coffee                                 Brewed Coffee   \n",
      "2                        Coffee                                 Brewed Coffee   \n",
      "3                        Coffee                                 Brewed Coffee   \n",
      "4       Classic Espresso Drinks                                   Caffè Latte   \n",
      "..                          ...                                           ...   \n",
      "237  Frappuccino® Blended Crème  Strawberries & Crème (Without Whipped Cream)   \n",
      "238  Frappuccino® Blended Crème          Vanilla Bean (Without Whipped Cream)   \n",
      "239  Frappuccino® Blended Crème          Vanilla Bean (Without Whipped Cream)   \n",
      "240  Frappuccino® Blended Crème          Vanilla Bean (Without Whipped Cream)   \n",
      "241  Frappuccino® Blended Crème          Vanilla Bean (Without Whipped Cream)   \n",
      "\n",
      "          Beverage_prep  Calories  Total Fat (g)   Total Carbohydrates (g)   \\\n",
      "0                 Short         3            0.1                          5   \n",
      "1                  Tall         4            0.1                         10   \n",
      "2                Grande         5            0.1                         10   \n",
      "3                 Venti         5            0.1                         10   \n",
      "4     Short Nonfat Milk        70            0.1                         75   \n",
      "..                  ...       ...            ...                        ...   \n",
      "237             Soymilk       320            3 2                        250   \n",
      "238    Tall Nonfat Milk       170            0.1                        160   \n",
      "239          Whole Milk       200            3.5                        160   \n",
      "240             Soymilk       180            1.5                        160   \n",
      "241  Grande Nonfat Milk       240            0.1                        230   \n",
      "\n",
      "      Sugars (g)   Protein (g)  Caffeine (mg)  \n",
      "0              0            0.3           175  \n",
      "1              0            0.5           260  \n",
      "2              0            1.0           330  \n",
      "3              0            1.0           410  \n",
      "4              9            6.0            75  \n",
      "..           ...            ...           ...  \n",
      "237           64            5.0             0  \n",
      "238           38            4.0             0  \n",
      "239           38            3.0             0  \n",
      "240           35            3.0             0  \n",
      "241           55            5.0             0  \n",
      "\n",
      "[242 rows x 9 columns]\n"
     ]
    }
   ],
   "source": [
    "k =data.keys()\n",
    "data = data.drop([k[5],k[6],k[7],k[9],k[10],k[13],k[14],k[15],k[16]],axis=1)\n",
    "print(data)"
   ]
  },
  {
   "cell_type": "markdown",
   "id": "7a9eaa6c",
   "metadata": {},
   "source": [
    "# 3- Data Visualisations"
   ]
  },
  {
   "cell_type": "markdown",
   "id": "249bdc84",
   "metadata": {},
   "source": [
    "## Which drink has the highest calories from the dataset?"
   ]
  },
  {
   "cell_type": "code",
   "execution_count": 47,
   "id": "f275dae8",
   "metadata": {},
   "outputs": [
    {
     "name": "stdout",
     "output_type": "stream",
     "text": [
      "Highest Calorie Drink:    Signature Espresso Drinks White Chocolate Mocha (Without Whipped Cream) 2% Milk\n"
     ]
    },
    {
     "data": {
      "text/plain": [
       "<AxesSubplot:>"
      ]
     },
     "execution_count": 47,
     "metadata": {},
     "output_type": "execute_result"
    },
    {
     "data": {
      "image/png": "[encoded data removed]",
      "text/plain": [
       "<Figure size 432x288 with 1 Axes>"
      ]
     },
     "metadata": {
      "needs_background": "light"
     },
     "output_type": "display_data"
    }
   ],
   "source": [
    "pt = data[data.keys()[3]]\n",
    "max_idx_Cal = np.argmax(pt)\n",
    "print(\"Highest Calorie Drink:   \", data.values[max_idx_Cal, 0], data.values[max_idx_Cal, 1], data.values[max_idx_Cal, 2])\n",
    "pt.plot(kind='bar')"
   ]
  },
  {
   "cell_type": "markdown",
   "id": "54ea9bfd",
   "metadata": {},
   "source": [
    "## Highest Sugar Drink?"
   ]
  },
  {
   "cell_type": "code",
   "execution_count": 48,
   "id": "e83fec53",
   "metadata": {},
   "outputs": [
    {
     "name": "stdout",
     "output_type": "stream",
     "text": [
      "214\n",
      "Highest Suger Drink:    Frappuccino® Blended Coffee Java Chip (Without Whipped Cream) Venti Nonfat Milk\n"
     ]
    },
    {
     "data": {
      "text/plain": [
       "<AxesSubplot:>"
      ]
     },
     "execution_count": 48,
     "metadata": {},
     "output_type": "execute_result"
    },
    {
     "data": {
      "image/png": "[encoded data removed]",
      "text/plain": [
       "<Figure size 432x288 with 1 Axes>"
      ]
     },
     "metadata": {
      "needs_background": "light"
     },
     "output_type": "display_data"
    }
   ],
   "source": [
    "pt = data[data.keys()[6]]\n",
    "max_idx_Sug = np.argmax(pt)\n",
    "print(max_idx_Sug)\n",
    "print(\"Highest Suger Drink:   \", data.values[max_idx_Sug, 0], data.values[max_idx_Sug, 1], data.values[max_idx_Sug, 2])\n",
    "pt.plot(kind='bar')"
   ]
  },
  {
   "cell_type": "code",
   "execution_count": null,
   "id": "c6de9117",
   "metadata": {},
   "outputs": [],
   "source": []
  }
 ],
 "metadata": {
  "kernelspec": {
   "display_name": "Python 3 (ipykernel)",
   "language": "python",
   "name": "python3"
  },
  "language_info": {
   "codemirror_mode": {
    "name": "ipython",
    "version": 3
   },
   "file_extension": ".py",
   "mimetype": "text/x-python",
   "name": "python",
   "nbconvert_exporter": "python",
   "pygments_lexer": "ipython3",
   "version": "3.10.4"
  }
 },
 "nbformat": 4,
 "nbformat_minor": 5
}
